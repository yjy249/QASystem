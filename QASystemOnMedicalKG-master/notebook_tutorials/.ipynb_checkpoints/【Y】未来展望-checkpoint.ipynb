{
 "cells": [
  {
   "cell_type": "markdown",
   "metadata": {},
   "source": [
    "本案例只查询“单跳”关系，可以回答“胸闷可能是什么疾病”，但没法回答“胸闷应该去看哪个科室”或“胸闷应该做哪些检查”\n",
    "\n",
    "本案例仅仅是对问题进行模板规则匹配和关键词提取，没有用到自然语言处理和深度学习领域最前沿的“命名实体识别”、“情感分析”、“关系抽取”、“语义匹配”等技术。例如，如果把问题从“胸闷吃点什么好”换成“前胸有一点点堵吃点什么好”，则无法匹配。\n",
    "\n",
    "\n",
    "本案例没有用到图神经网络、图嵌入、图数据挖掘等前沿的人工智能和知识图谱技术。\n",
    "\n",
    "本案例的数据仅是小规模的demo数据，如果有百万级节点和关系，将问答系统部署在服务器上，对外发布web应用，则对云数据库的数据存储与查询、分布式、多线程、高并发、容灾备份、弹性扩容等有更高的挑战。"
   ]
  },
  {
   "cell_type": "code",
   "execution_count": null,
   "metadata": {},
   "outputs": [],
   "source": []
  }
 ],
 "metadata": {
  "kernelspec": {
   "display_name": "Python 3 (ipykernel)",
   "language": "python",
   "name": "python3"
  },
  "language_info": {
   "codemirror_mode": {
    "name": "ipython",
    "version": 3
   },
   "file_extension": ".py",
   "mimetype": "text/x-python",
   "name": "python",
   "nbconvert_exporter": "python",
   "pygments_lexer": "ipython3",
   "version": "3.9.12"
  }
 },
 "nbformat": 4,
 "nbformat_minor": 4
}
