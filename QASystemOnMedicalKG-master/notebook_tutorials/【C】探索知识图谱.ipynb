{
 "cells": [
  {
   "cell_type": "markdown",
   "metadata": {},
   "source": [
    "## Neo4j可视化\n",
    "\n",
    "可设置`Initial Node Display`为`800`，可视化全部节点\n",
    "\n",
    "设置节点颜色、大小"
   ]
  },
  {
   "cell_type": "markdown",
   "metadata": {},
   "source": [
    "## GraphXR三维知识图谱可视化\n",
    "\n",
    "https://app.graphxr.cn/"
   ]
  },
  {
   "cell_type": "markdown",
   "metadata": {},
   "source": [
    "## Cypher 图数据库查询语句\n",
    "\n",
    "查看所有节点\n",
    "\n",
    "```\n",
    "MATCH (n) RETURN n\n",
    "```\n",
    "\n",
    "可视化知识图谱元数据图（Ontology）\n",
    "```\n",
    "CALL db.schema.visualization()\n",
    "```\n",
    "\n",
    "\n",
    "百日咳 和 血常规 的关系\n",
    "```\n",
    "MATCH (p:Disease {name:'百日咳'})-[]->(q:Check {name:'血常规'}) RETURN p,q\n",
    "```\n",
    "\n",
    "所有疾病和对应的检查\n",
    "```\n",
    "MATCH (p:Disease)-[r:need_check]->(q:Check) RETURN p,q\n",
    "```\n",
    "\n",
    "删除所有节点\n",
    "```\n",
    "MATCH (n) DETACH DELETE n\n",
    "```"
   ]
  },
  {
   "cell_type": "markdown",
   "metadata": {},
   "source": [
    "## 图数据挖掘\n",
    "\n",
    "Graph Apps --> Graph Apps Gallery --> Graph Data Science Playground-->安装\n",
    "\n",
    "节点重要性：Page Rank\n",
    "\n",
    "社群发现：Louvain\n",
    "\n",
    "图嵌入：Node2Vec"
   ]
  },
  {
   "cell_type": "code",
   "execution_count": null,
   "metadata": {},
   "outputs": [],
   "source": []
  },
  {
   "cell_type": "markdown",
   "metadata": {},
   "source": []
  },
  {
   "cell_type": "code",
   "execution_count": null,
   "metadata": {},
   "outputs": [],
   "source": []
  }
 ],
 "metadata": {
  "kernelspec": {
   "display_name": "Python 3 (ipykernel)",
   "language": "python",
   "name": "python3"
  },
  "language_info": {
   "codemirror_mode": {
    "name": "ipython",
    "version": 3
   },
   "file_extension": ".py",
   "mimetype": "text/x-python",
   "name": "python",
   "nbconvert_exporter": "python",
   "pygments_lexer": "ipython3",
   "version": "3.9.12"
  }
 },
 "nbformat": 4,
 "nbformat_minor": 4
}
